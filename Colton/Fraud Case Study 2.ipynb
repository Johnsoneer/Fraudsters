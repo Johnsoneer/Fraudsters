{
 "cells": [
  {
   "cell_type": "code",
   "execution_count": 3,
   "metadata": {
    "collapsed": false
   },
   "outputs": [
    {
     "name": "stderr",
     "output_type": "stream",
     "text": [
      "/Users/dcolton/anaconda/lib/python2.7/site-packages/sklearn/cross_validation.py:44: DeprecationWarning: This module was deprecated in version 0.18 in favor of the model_selection module into which all the refactored classes and functions are moved. Also note that the interface of the new CV iterators are different from that of this module. This module will be removed in 0.20.\n",
      "  \"This module will be removed in 0.20.\", DeprecationWarning)\n",
      "/Users/dcolton/anaconda/lib/python2.7/site-packages/sklearn/grid_search.py:43: DeprecationWarning: This module was deprecated in version 0.18 in favor of the model_selection module into which all the refactored classes and functions are moved. This module will be removed in 0.20.\n",
      "  DeprecationWarning)\n"
     ]
    }
   ],
   "source": [
    "import pandas as pd\n",
    "import numpy as np\n",
    "import datetime\n",
    "import matplotlib.pyplot as plt\n",
    "%matplotlib inline\n",
    "from pandas.tools.plotting import scatter_matrix\n",
    "from sklearn.ensemble import RandomForestClassifier, GradientBoostingClassifier, AdaBoostClassifier\n",
    "from sklearn.cross_validation import cross_val_score\n",
    "from sklearn.grid_search import GridSearchCV\n",
    "from sklearn.metrics import precision_score\n",
    "from sklearn.metrics import recall_score\n",
    "from sklearn.metrics import accuracy_score\n",
    "from sklearn.metrics import roc_curve, auc\n",
    "from sklearn.cross_validation import train_test_split\n",
    "from sklearn.preprocessing import LabelEncoder"
   ]
  },
  {
   "cell_type": "code",
   "execution_count": 4,
   "metadata": {
    "collapsed": false
   },
   "outputs": [],
   "source": [
    "df = pd.read_json('data.json')"
   ]
  },
  {
   "cell_type": "code",
   "execution_count": 10,
   "metadata": {
    "collapsed": false
   },
   "outputs": [
    {
     "data": {
      "text/plain": [
       "0         3852\n",
       "1         3499\n",
       "2         2601\n",
       "3        12347\n",
       "4         2417\n",
       "5          117\n",
       "6           28\n",
       "7          974\n",
       "8         4388\n",
       "9          974\n",
       "10        4397\n",
       "11        1679\n",
       "12        7933\n",
       "13        7138\n",
       "14       10057\n",
       "15        1615\n",
       "16        1595\n",
       "17         148\n",
       "18        3387\n",
       "19        6045\n",
       "20        3530\n",
       "21         452\n",
       "22         742\n",
       "23         810\n",
       "24        1483\n",
       "25        3254\n",
       "26         870\n",
       "27         475\n",
       "28        1083\n",
       "29        1901\n",
       "         ...  \n",
       "14307        0\n",
       "14308     7444\n",
       "14309     5736\n",
       "14310     4999\n",
       "14311      600\n",
       "14312      831\n",
       "14313        0\n",
       "14314     6404\n",
       "14315     1141\n",
       "14316     3276\n",
       "14317     6101\n",
       "14318      448\n",
       "14319     9574\n",
       "14320      905\n",
       "14321     2381\n",
       "14322        0\n",
       "14323     4809\n",
       "14324    10108\n",
       "14325      996\n",
       "14326      541\n",
       "14327     6007\n",
       "14328     8149\n",
       "14329    11930\n",
       "14330      240\n",
       "14331     4560\n",
       "14332      667\n",
       "14333     5812\n",
       "14334      557\n",
       "14335    10873\n",
       "14336        0\n",
       "Name: body_length, dtype: int64"
      ]
     },
     "execution_count": 10,
     "metadata": {},
     "output_type": "execute_result"
    }
   ],
   "source": [
    "df.body_length"
   ]
  },
  {
   "cell_type": "code",
   "execution_count": 3,
   "metadata": {
    "collapsed": false
   },
   "outputs": [],
   "source": [
    "a = df['acct_type'].unique()\n",
    "uniq = list(a)"
   ]
  },
  {
   "cell_type": "code",
   "execution_count": 4,
   "metadata": {
    "collapsed": false
   },
   "outputs": [
    {
     "name": "stdout",
     "output_type": "stream",
     "text": [
      "fraudster_event (851, 44)\n",
      "premium (12373, 44)\n",
      "spammer_warn (144, 44)\n",
      "fraudster (437, 44)\n",
      "spammer_limited (218, 44)\n",
      "spammer_noinvite (84, 44)\n",
      "locked (54, 44)\n",
      "tos_lock (77, 44)\n",
      "tos_warn (91, 44)\n",
      "fraudster_att (5, 44)\n",
      "spammer_web (2, 44)\n",
      "spammer (1, 44)\n",
      "*** 1964 frauds ***\n"
     ]
    }
   ],
   "source": [
    "for i in uniq:\n",
    "    print i, df[df['acct_type']==i].shape\n",
    "print '***', 14337-12373, 'frauds ***'"
   ]
  },
  {
   "cell_type": "code",
   "execution_count": 5,
   "metadata": {
    "collapsed": false
   },
   "outputs": [],
   "source": [
    "datecols = ['approx_payout_date', 'event_end', 'user_created']\n",
    "\n",
    "convert = lambda x: datetime.date.fromtimestamp(x)\n",
    "for i in datecols:\n",
    "    df[i]=df[i].apply(pd.to_numeric)\n",
    "    df[i]=df[i].apply(convert)\n",
    "\n",
    "    \n",
    "df['event_created'] = pd.to_datetime(df['event_created'],unit='s')\n",
    "df['event_start'] = pd.to_datetime(df['event_start'],unit='s')\n",
    "df['event_published'] = pd.to_datetime(df['event_published'],unit='s')\n",
    "\n",
    "df['created_date'] = df['event_created'].dt.date\n",
    "df['started_date'] = df['event_start'].dt.date\n",
    "df['published_date'] = df['event_published'].dt.date"
   ]
  },
  {
   "cell_type": "code",
   "execution_count": 6,
   "metadata": {
    "collapsed": false
   },
   "outputs": [],
   "source": [
    "df['event_published'] = pd.to_datetime(df['event_published'],unit='s')"
   ]
  },
  {
   "cell_type": "markdown",
   "metadata": {
    "collapsed": false
   },
   "source": [
    "scatter_matrix(df, alpha=0.2, figsize=(16, 16), diagonal='kde')"
   ]
  },
  {
   "cell_type": "markdown",
   "metadata": {
    "collapsed": true
   },
   "source": [
    "def fraud_class(x):\n",
    "    if x = \"premium\":\n",
    "        return 0\n",
    "    elif x = \"spammer%\":\n",
    "        return 0\n",
    "    else:\n",
    "        return 1\n",
    "df['fraud'] = df['acct_type'].apply(fraud_class)\n",
    "df['fraud'].value_counts()"
   ]
  },
  {
   "cell_type": "code",
   "execution_count": 7,
   "metadata": {
    "collapsed": true
   },
   "outputs": [],
   "source": [
    "df['Fraud'] = ((df['acct_type'] == 'fraudster_event') | (df['acct_type'] == 'fraudster') | \\\n",
    "               (df['acct_type'] == 'locked') | (df['acct_type'] == 'tos_lock') | \\\n",
    "               (df['acct_type'] == 'tos_warn') | (df['acct_type'] == 'fraudster_att'))"
   ]
  },
  {
   "cell_type": "code",
   "execution_count": 12,
   "metadata": {
    "collapsed": false
   },
   "outputs": [
    {
     "data": {
      "text/plain": [
       "(14337, 49)"
      ]
     },
     "execution_count": 12,
     "metadata": {},
     "output_type": "execute_result"
    }
   ],
   "source": [
    "df.shape"
   ]
  },
  {
   "cell_type": "code",
   "execution_count": 8,
   "metadata": {
    "collapsed": true
   },
   "outputs": [],
   "source": [
    "dfSAFE = df"
   ]
  },
  {
   "cell_type": "code",
   "execution_count": 9,
   "metadata": {
    "collapsed": false
   },
   "outputs": [
    {
     "data": {
      "text/plain": [
       "{'bool': Index([u'Fraud'], dtype='object'),\n",
       " 'datetime64[ns]': Index([u'event_created', u'event_published', u'event_start'], dtype='object'),\n",
       " 'float64': Index([u'delivery_method', u'gts', u'has_header', u'org_facebook',\n",
       "        u'org_twitter', u'sale_duration', u'venue_latitude',\n",
       "        u'venue_longitude'],\n",
       "       dtype='object'),\n",
       " 'int64': Index([u'body_length', u'channels', u'fb_published', u'has_analytics',\n",
       "        u'has_logo', u'name_length', u'num_order', u'num_payouts', u'object_id',\n",
       "        u'sale_duration2', u'show_map', u'user_age', u'user_type'],\n",
       "       dtype='object'),\n",
       " 'object': Index([         u'acct_type', u'approx_payout_date',            u'country',\n",
       "                  u'currency',        u'description',       u'email_domain',\n",
       "                 u'event_end',             u'listed',               u'name',\n",
       "                  u'org_desc',           u'org_name',         u'payee_name',\n",
       "               u'payout_type',   u'previous_payouts',       u'ticket_types',\n",
       "              u'user_created',      u'venue_address',      u'venue_country',\n",
       "                u'venue_name',        u'venue_state',       u'created_date',\n",
       "              u'started_date',     u'published_date'],\n",
       "       dtype='object')}"
      ]
     },
     "execution_count": 9,
     "metadata": {},
     "output_type": "execute_result"
    }
   ],
   "source": [
    "g = df.columns.to_series().groupby(df.dtypes).groups\n",
    "{k.name: v for k, v in g.items()}"
   ]
  },
  {
   "cell_type": "code",
   "execution_count": 10,
   "metadata": {
    "collapsed": false
   },
   "outputs": [],
   "source": [
    "df['all_equal'] = ((df['event_start']==df['event_created']) & (df['event_start']==df['event_published']))"
   ]
  },
  {
   "cell_type": "code",
   "execution_count": 13,
   "metadata": {
    "collapsed": false
   },
   "outputs": [
    {
     "name": "stderr",
     "output_type": "stream",
     "text": [
      "/Users/dcolton/anaconda/lib/python2.7/site-packages/ipykernel/__main__.py:2: SettingWithCopyWarning: \n",
      "A value is trying to be set on a copy of a slice from a DataFrame.\n",
      "Try using .loc[row_indexer,col_indexer] = value instead\n",
      "\n",
      "See the caveats in the documentation: http://pandas.pydata.org/pandas-docs/stable/indexing.html#indexing-view-versus-copy\n",
      "  from ipykernel import kernelapp as app\n"
     ]
    }
   ],
   "source": [
    "date_df = df[['Fraud','created_date','started_date','published_date']]\n",
    "date_df['all_equal'] = ((date_df['created_date']==date_df['published_date']) & (date_df['created_date']==date_df['started_date']))"
   ]
  },
  {
   "cell_type": "code",
   "execution_count": 14,
   "metadata": {
    "collapsed": true
   },
   "outputs": [],
   "source": [
    "df['all_dates_equal'] = date_df['all_equal']"
   ]
  },
  {
   "cell_type": "code",
   "execution_count": 15,
   "metadata": {
    "collapsed": true
   },
   "outputs": [],
   "source": [
    "    keep_col = ['approx_payout_date', 'body_length', 'channels', 'country', 'currency', \\\n",
    "                'delivery_method', 'event_created', 'event_end', 'event_published', 'event_start', \\\n",
    "                'fb_published', 'gts', 'has_analytics', 'has_logo', 'listed', \\\n",
    "                'name_length', 'num_order', 'num_payouts', 'org_facebook', 'org_twitter', \\\n",
    "                'payout_type', 'sale_duration', 'sale_duration2', 'show_map', 'user_age', \\\n",
    "                'user_created', 'user_type', 'venue_country', 'venue_state']"
   ]
  },
  {
   "cell_type": "code",
   "execution_count": 17,
   "metadata": {
    "collapsed": false
   },
   "outputs": [
    {
     "data": {
      "text/plain": [
       "(14337, 50)"
      ]
     },
     "execution_count": 17,
     "metadata": {},
     "output_type": "execute_result"
    }
   ],
   "source": [
    "df.shape"
   ]
  },
  {
   "cell_type": "code",
   "execution_count": 65,
   "metadata": {
    "collapsed": false
   },
   "outputs": [],
   "source": [
    "dfnum = df.drop(['venue_latitude', 'venue_longitude', 'venue_state', 'venue_name', 'country', 'currency', 'description'],inplace=False, axis=1)"
   ]
  },
  {
   "cell_type": "code",
   "execution_count": 66,
   "metadata": {
    "collapsed": false
   },
   "outputs": [],
   "source": [
    "dfnum = dfnum.drop(['email_domain', 'name', 'org_desc', 'payee_name','previous_payouts','ticket_types', 'venue_address'],inplace=False,axis=1)"
   ]
  },
  {
   "cell_type": "code",
   "execution_count": 67,
   "metadata": {
    "collapsed": false
   },
   "outputs": [],
   "source": [
    "dfnum = dfnum.drop(['org_name'], axis=1)"
   ]
  },
  {
   "cell_type": "code",
   "execution_count": 68,
   "metadata": {
    "collapsed": false
   },
   "outputs": [],
   "source": [
    "payout_df = pd.get_dummies(dfnum['payout_type'], drop_first=True)"
   ]
  },
  {
   "cell_type": "code",
   "execution_count": 70,
   "metadata": {
    "collapsed": false
   },
   "outputs": [],
   "source": [
    "dff = pd.concat([dfnum, payout_df],axis=1)"
   ]
  },
  {
   "cell_type": "code",
   "execution_count": 71,
   "metadata": {
    "collapsed": false
   },
   "outputs": [],
   "source": [
    "dff.fillna(0, inplace=True)"
   ]
  },
  {
   "cell_type": "code",
   "execution_count": 72,
   "metadata": {
    "collapsed": false
   },
   "outputs": [],
   "source": [
    "dff = dff.drop(['payout_type'], axis=1)"
   ]
  },
  {
   "cell_type": "code",
   "execution_count": 74,
   "metadata": {
    "collapsed": false
   },
   "outputs": [],
   "source": [
    "# y = df.pop('Fraud')\n",
    "dff = dff.drop(['acct_type', 'event_created', 'event_published','event_start'], axis=1)"
   ]
  },
  {
   "cell_type": "code",
   "execution_count": 120,
   "metadata": {
    "collapsed": false
   },
   "outputs": [],
   "source": [
    "dfg = dff.drop(['approx_payout_date', 'event_end', 'listed', 'user_created', 'venue_country', 'created_date', 'started_date', 'published_date'], axis=1)"
   ]
  },
  {
   "cell_type": "code",
   "execution_count": 121,
   "metadata": {
    "collapsed": false
   },
   "outputs": [],
   "source": [
    "X = dfg.values"
   ]
  },
  {
   "cell_type": "code",
   "execution_count": 122,
   "metadata": {
    "collapsed": false
   },
   "outputs": [
    {
     "data": {
      "text/plain": [
       "array([[3852, 5, 0.0, ..., False, 0, 0],\n",
       "       [3499, 0, 1.0, ..., False, 0, 1],\n",
       "       [2601, 8, 1.0, ..., False, 0, 1],\n",
       "       ..., \n",
       "       [557, 13, 0.0, ..., False, 1, 0],\n",
       "       [10873, 8, 0.0, ..., False, 1, 0],\n",
       "       [0, 0, 0.0, ..., False, 1, 0]], dtype=object)"
      ]
     },
     "execution_count": 122,
     "metadata": {},
     "output_type": "execute_result"
    }
   ],
   "source": [
    "X"
   ]
  },
  {
   "cell_type": "code",
   "execution_count": 123,
   "metadata": {
    "collapsed": false
   },
   "outputs": [
    {
     "data": {
      "text/plain": [
       "(14337,)"
      ]
     },
     "execution_count": 123,
     "metadata": {},
     "output_type": "execute_result"
    }
   ],
   "source": [
    "y.shape"
   ]
  },
  {
   "cell_type": "code",
   "execution_count": 124,
   "metadata": {
    "collapsed": false
   },
   "outputs": [],
   "source": [
    "X_train, X_test, y_train, y_test = train_test_split(X, y, test_size=.3, random_state=1)"
   ]
  },
  {
   "cell_type": "code",
   "execution_count": 125,
   "metadata": {
    "collapsed": true
   },
   "outputs": [],
   "source": [
    "rf = RandomForestClassifier(max_features='sqrt', n_estimators=100, n_jobs=-1, random_state=1)\n",
    "gb = GradientBoostingClassifier(learning_rate=.1, n_estimators=200, max_features='sqrt', max_depth=5, random_state=1)\n",
    "ab = AdaBoostClassifier(n_estimators=200)"
   ]
  },
  {
   "cell_type": "code",
   "execution_count": 126,
   "metadata": {
    "collapsed": false
   },
   "outputs": [
    {
     "data": {
      "text/plain": [
       "AdaBoostClassifier(algorithm='SAMME.R', base_estimator=None,\n",
       "          learning_rate=1.0, n_estimators=200, random_state=None)"
      ]
     },
     "execution_count": 126,
     "metadata": {},
     "output_type": "execute_result"
    }
   ],
   "source": [
    "rf.fit(X_train, y_train)\n",
    "gb.fit(X_train, y_train)\n",
    "ab.fit(X_train, y_train)"
   ]
  },
  {
   "cell_type": "code",
   "execution_count": 131,
   "metadata": {
    "collapsed": false
   },
   "outputs": [
    {
     "name": "stdout",
     "output_type": "stream",
     "text": [
      "RF: 0.966062296606\n",
      "GB: 0.968386796839\n",
      "AB: 0.955834495583\n"
     ]
    }
   ],
   "source": [
    "print 'RF:', rf.score(X_test,y_test)\n",
    "print 'GB:', gb.score(X_test,y_test)\n",
    "print 'AB:', ab.score(X_test,y_test)"
   ]
  },
  {
   "cell_type": "code",
   "execution_count": 137,
   "metadata": {
    "collapsed": false,
    "scrolled": true
   },
   "outputs": [
    {
     "name": "stdout",
     "output_type": "stream",
     "text": [
      "1 Accuracy: 0.966062296606\n",
      "1 Precision: 0.942857142857\n",
      "1 Recall: 0.723684210526\n",
      "1 Accuracy: 0.968386796839\n",
      "1 Precision: 0.921052631579\n",
      "1 Recall: 0.767543859649\n",
      "1 Accuracy: 0.955834495583\n",
      "1 Precision: 0.861413043478\n",
      "1 Recall: 0.695175438596\n"
     ]
    }
   ],
   "source": [
    "models = [rf, gb, ab]\n",
    "\n",
    "for i in models:\n",
    "    print '{} Accuracy: {}'.format(1, i.score(X_test, y_test))\n",
    "    print '{} Precision: {}'.format(1, precision_score(y_test, i.predict(X_test)))\n",
    "    print '{} Recall: {}'.format(1, recall_score(y_test, i.predict(X_test)))"
   ]
  },
  {
   "cell_type": "code",
   "execution_count": 150,
   "metadata": {
    "collapsed": true
   },
   "outputs": [],
   "source": [
    "def balancer(df, label, margin = 0.4, size = 500):\n",
    "    yes = df[df[label] == 1]\n",
    "    no = df[df[label] == 0]\n",
    "    return yes.sample(int(size * margin),axis =0).append(no.sample(size - int(size * margin),axis =0))"
   ]
  },
  {
   "cell_type": "code",
   "execution_count": 148,
   "metadata": {
    "collapsed": true
   },
   "outputs": [],
   "source": [
    "dfg['Fraud'] = ((df['acct_type'] == 'fraudster_event') | (df['acct_type'] == 'fraudster') | \\\n",
    "               (df['acct_type'] == 'locked') | (df['acct_type'] == 'tos_lock') | \\\n",
    "               (df['acct_type'] == 'tos_warn') | (df['acct_type'] == 'fraudster_att'))"
   ]
  },
  {
   "cell_type": "code",
   "execution_count": null,
   "metadata": {
    "collapsed": true
   },
   "outputs": [],
   "source": []
  }
 ],
 "metadata": {
  "kernelspec": {
   "display_name": "Python 2",
   "language": "python",
   "name": "python2"
  },
  "language_info": {
   "codemirror_mode": {
    "name": "ipython",
    "version": 2
   },
   "file_extension": ".py",
   "mimetype": "text/x-python",
   "name": "python",
   "nbconvert_exporter": "python",
   "pygments_lexer": "ipython2",
   "version": "2.7.13"
  }
 },
 "nbformat": 4,
 "nbformat_minor": 2
}
