{
 "cells": [
  {
   "cell_type": "code",
   "execution_count": 1,
   "metadata": {
    "collapsed": false
   },
   "outputs": [],
   "source": [
    "import pandas as pd\n",
    "import cPickle as pickle\n",
    "import datetime as dt\n",
    "readin = 'example.json'\n",
    "m = pickle.load(open('model.p','rb'))\n",
    "\n",
    "point = pd.read_json(readin)"
   ]
  },
  {
   "cell_type": "code",
   "execution_count": 13,
   "metadata": {
    "collapsed": false
   },
   "outputs": [
    {
     "name": "stderr",
     "output_type": "stream",
     "text": [
      "/home/nym2/anaconda/lib/python2.7/site-packages/ipykernel/__main__.py:16: SettingWithCopyWarning: \n",
      "A value is trying to be set on a copy of a slice from a DataFrame.\n",
      "Try using .loc[row_indexer,col_indexer] = value instead\n",
      "\n",
      "See the caveats in the documentation: http://pandas.pydata.org/pandas-docs/stable/indexing.html#indexing-view-versus-copy\n"
     ]
    },
    {
     "name": "stdout",
     "output_type": "stream",
     "text": [
      "[[ 0.7  0.3]]\n"
     ]
    }
   ],
   "source": [
    "point = pd.read_json(readin)\n",
    "orig = point.copy()\n",
    "datecols = ['approx_payout_date', 'event_created', 'event_end', 'event_start', 'event_published', 'user_created']\n",
    "df_copy = point.copy()\n",
    "convert = lambda x: dt.datetime.fromtimestamp(x)\n",
    "for i in datecols:\n",
    "    df_copy[i]=df_copy[i].apply(pd.to_numeric)\n",
    "    df_copy[i]=df_copy[i].apply(convert)\n",
    "\n",
    "df_copy['created_date'] = df_copy['event_created'].dt.date\n",
    "df_copy['started_date'] = df_copy['event_start'].dt.date\n",
    "# df['published_date'] = df['event_published'].dt.date\n",
    "df_copy['approx_payout_day'] = df_copy['approx_payout_date'].dt.date\n",
    "#Creating new column where TRUE if all dates are equal\n",
    "date_df = df_copy[['created_date','started_date']]\n",
    "date_df['all_equal'] = ((date_df['created_date']==date_df['started_date']))\n",
    "#(date_df[‘created_date’]==date_df[‘published_date’]) &\n",
    "# created_started = date_df[date_df['all_equal']==True]\n",
    "# sum(created_started['Fraud'])/float(len(created_started))\n",
    "point['all_equal'] = date_df['all_equal']\n",
    "\n",
    "keep_col = ['all_equal', 'body_length', 'channels', 'country', 'currency', \\\n",
    "            'delivery_method', 'event_created', 'event_end', 'event_published', 'event_start', \\\n",
    "            'fb_published', 'gts', 'has_analytics', 'has_logo', 'listed', \\\n",
    "            'name_length', 'num_order', 'num_payouts', 'org_facebook', 'org_twitter', \\\n",
    "            'payout_type', 'sale_duration', 'sale_duration2', 'show_map', 'user_age', \\\n",
    "            'user_created', 'user_type', 'venue_country', 'venue_latitude', 'venue_longitude', \\\n",
    "            'venue_state']\n",
    "point =  point[keep_col]\n",
    "dummy_dict = m[1]\n",
    "for col in dummy_dict:\n",
    "    values = dummy_dict[col]\n",
    "    for value in values:\n",
    "        point[(value + '_' + col)] = int(point[col] == value)\n",
    "    point.pop(col)\n",
    "\n",
    "model = m[0]\n",
    "p = model.predict_proba(point.values)\n",
    "print p\n",
    "# orig['probability'] =  model.predict_proba(point.values)\n",
    "# print orig['probability']\n",
    "# return orig\n"
   ]
  },
  {
   "cell_type": "code",
   "execution_count": 15,
   "metadata": {
    "collapsed": false
   },
   "outputs": [
    {
     "data": {
      "text/html": [
       "<div>\n",
       "<table border=\"1\" class=\"dataframe\">\n",
       "  <thead>\n",
       "    <tr style=\"text-align: right;\">\n",
       "      <th></th>\n",
       "      <th>approx_payout_date</th>\n",
       "      <th>body_length</th>\n",
       "      <th>channels</th>\n",
       "      <th>country</th>\n",
       "      <th>currency</th>\n",
       "      <th>delivery_method</th>\n",
       "      <th>description</th>\n",
       "      <th>email_domain</th>\n",
       "      <th>event_created</th>\n",
       "      <th>event_end</th>\n",
       "      <th>...</th>\n",
       "      <th>ticket_types</th>\n",
       "      <th>user_age</th>\n",
       "      <th>user_created</th>\n",
       "      <th>user_type</th>\n",
       "      <th>venue_address</th>\n",
       "      <th>venue_country</th>\n",
       "      <th>venue_latitude</th>\n",
       "      <th>venue_longitude</th>\n",
       "      <th>venue_name</th>\n",
       "      <th>venue_state</th>\n",
       "    </tr>\n",
       "  </thead>\n",
       "  <tbody>\n",
       "    <tr>\n",
       "      <th>0</th>\n",
       "      <td>1364360400</td>\n",
       "      <td>1474</td>\n",
       "      <td>11</td>\n",
       "      <td>US</td>\n",
       "      <td>USD</td>\n",
       "      <td>0</td>\n",
       "      <td>&lt;p&gt;&lt;span style=\"font-size: medium; font-family...</td>\n",
       "      <td>dreamprojectfoundation.org</td>\n",
       "      <td>1361291193</td>\n",
       "      <td>1363928400</td>\n",
       "      <td>...</td>\n",
       "      <td>{u'event_id': 5558108, u'cost': 50.0, u'availa...</td>\n",
       "      <td>0</td>\n",
       "      <td>1361290985</td>\n",
       "      <td>1</td>\n",
       "      <td>1 Ionia Avenue Southwest</td>\n",
       "      <td>US</td>\n",
       "      <td>42.963058</td>\n",
       "      <td>-85.670615</td>\n",
       "      <td>Grand Rapids Brewing Co</td>\n",
       "      <td>MI</td>\n",
       "    </tr>\n",
       "  </tbody>\n",
       "</table>\n",
       "<p>1 rows × 43 columns</p>\n",
       "</div>"
      ],
      "text/plain": [
       "   approx_payout_date  body_length  channels country currency  \\\n",
       "0          1364360400         1474        11      US      USD   \n",
       "\n",
       "   delivery_method                                        description  \\\n",
       "0                0  <p><span style=\"font-size: medium; font-family...   \n",
       "\n",
       "                 email_domain  event_created   event_end     ...       \\\n",
       "0  dreamprojectfoundation.org     1361291193  1363928400     ...        \n",
       "\n",
       "                                        ticket_types  user_age  user_created  \\\n",
       "0  {u'event_id': 5558108, u'cost': 50.0, u'availa...         0    1361290985   \n",
       "\n",
       "   user_type             venue_address  venue_country  venue_latitude  \\\n",
       "0          1  1 Ionia Avenue Southwest             US       42.963058   \n",
       "\n",
       "  venue_longitude               venue_name  venue_state  \n",
       "0      -85.670615  Grand Rapids Brewing Co           MI  \n",
       "\n",
       "[1 rows x 43 columns]"
      ]
     },
     "execution_count": 15,
     "metadata": {},
     "output_type": "execute_result"
    }
   ],
   "source": [
    "orig"
   ]
  },
  {
   "cell_type": "code",
   "execution_count": 10,
   "metadata": {
    "collapsed": true
   },
   "outputs": [],
   "source": [
    "pickle.dump(c1, open('cols.p', 'wb'))"
   ]
  },
  {
   "cell_type": "code",
   "execution_count": 11,
   "metadata": {
    "collapsed": true
   },
   "outputs": [],
   "source": [
    "p = point.values"
   ]
  },
  {
   "cell_type": "code",
   "execution_count": 12,
   "metadata": {
    "collapsed": false
   },
   "outputs": [
    {
     "data": {
      "text/plain": [
       "array([[False, 1474, 11, 0, 1361291193, 1363928400, 1361978554, 1363914000,\n",
       "        0, 537.4, 0, 1, 51, 7, 0, 13, 13, 22, 30, 1, 0, 1361290985, 1,\n",
       "        42.9630578, -85.6706147, 0, 0, 0, 0, 0, 0, 0, 0, 0, 0, 0, 1, 0, 0,\n",
       "        0, 0, 0, 0, 0, 0, 0, 0, 0, 0, 0, 0, 0, 0, 0, 0, 0, 0, 0, 0, 0, 0,\n",
       "        0, 0, 0, 0, 0, 0, 0, 0, 0, 0, 0, 0, 0, 0, 0, 0, 0, 0, 0, 0, 0, 0,\n",
       "        0, 0, 0, 0, 0, 0, 0, 0, 0, 0, 0, 0, 0, 0, 0, 0, 0, 0, 0, 0, 0, 0,\n",
       "        0, 0, 0, 0, 0, 0, 0, 0, 0, 0, 0, 0, 0, 0, 0, 0, 0, 0, 0, 0, 0, 0,\n",
       "        0, 0, 0, 0, 0, 0, 0, 0, 0, 0, 0, 0, 0, 0, 0, 0, 0, 0, 0, 0, 0, 0,\n",
       "        0, 0, 0, 0, 0, 0, 0, 0, 0, 0, 0, 0, 0, 0, 0, 0, 0, 0, 0, 0, 0, 0,\n",
       "        0, 0, 0, 0, 0, 0, 0, 0, 0, 0, 0, 0, 0, 0, 0, 0, 0, 0, 0, 0, 0, 0,\n",
       "        0, 0, 0, 0, 0, 0, 0, 0, 0, 0, 0, 0, 0, 0, 0, 0, 0, 0, 0, 0, 0, 0,\n",
       "        0, 0, 0, 0, 0, 0, 0, 0, 0, 0, 0, 0, 0, 0, 0, 0, 0, 0, 0, 0, 0, 0,\n",
       "        0, 0, 0, 0, 0, 0, 0, 0, 0, 0, 0, 0, 0, 0, 0, 0, 0, 0, 0, 0, 0, 0,\n",
       "        0, 0, 0, 0, 0, 0, 0, 0, 0, 0, 0, 0, 0, 0, 0, 0, 0, 0, 0, 0, 0, 0,\n",
       "        0, 0, 0, 0, 0, 0, 0, 0, 0, 0, 0, 0, 0, 0, 0, 0, 0, 0, 0, 0, 0, 0,\n",
       "        0, 0, 0, 0, 0, 0, 0, 0, 0, 0, 0, 0, 0, 0, 0, 0, 0, 0, 0, 0, 0, 0,\n",
       "        0, 0, 0, 0, 0, 0, 0, 0, 0, 0, 0, 0, 0, 0, 0, 0, 0, 0, 0, 0, 0, 0,\n",
       "        0, 0, 0, 0, 0, 0, 0, 0, 0, 0, 0, 0, 0, 0, 0, 0, 0, 0, 0, 0, 0, 0,\n",
       "        0, 0, 0, 0, 0, 0, 0, 0, 0, 0, 0, 0, 0, 0, 0, 0, 0, 0, 0, 0, 0, 0,\n",
       "        0, 0, 0, 0, 0, 0, 0, 0, 0, 0, 0, 0, 0, 0, 0, 0, 0, 0, 0, 0, 0, 0,\n",
       "        0, 0, 0, 0, 0, 0, 0, 0, 0, 0, 0, 0, 0, 0, 0, 0, 0, 0, 0, 0, 0, 0,\n",
       "        0, 0, 0, 0, 0, 0, 0, 0, 0, 0, 0, 0, 0, 0, 0, 0, 0, 0, 0, 0, 0, 0,\n",
       "        0, 0, 0, 0, 0, 0, 0, 1, 0, 0, 0, 0, 0, 0, 0, 0, 0, 0, 0, 0, 0, 0,\n",
       "        0, 0, 0, 0, 0, 0, 0, 0, 0, 0, 0, 0, 0, 0, 0, 0, 0, 0, 0, 0, 0, 0,\n",
       "        0, 0, 0, 0, 0, 0, 0, 0, 0, 0, 0, 0, 0, 0, 0, 0, 0, 0, 0, 0, 0, 0,\n",
       "        0, 0, 0, 0, 1, 0, 0, 0, 0, 0, 1, 0, 1, 0, 0, 0, 0, 0, 0, 0, 0, 0,\n",
       "        0, 0, 0, 0, 0, 0, 0, 0, 0, 0, 0, 0, 0, 0, 0, 0, 0, 0, 0, 0, 0, 0,\n",
       "        0, 0, 0, 0, 0, 0, 0, 0, 0, 0, 0, 0, 0, 0, 0, 0, 0, 0, 0, 0, 0, 0,\n",
       "        0, 0, 0, 0, 0, 0, 0, 0, 0, 0, 0, 0, 0, 0, 0, 0, 1]], dtype=object)"
      ]
     },
     "execution_count": 12,
     "metadata": {},
     "output_type": "execute_result"
    }
   ],
   "source": [
    "p"
   ]
  },
  {
   "cell_type": "code",
   "execution_count": null,
   "metadata": {
    "collapsed": true
   },
   "outputs": [],
   "source": []
  }
 ],
 "metadata": {
  "anaconda-cloud": {},
  "kernelspec": {
   "display_name": "Python [default]",
   "language": "python",
   "name": "python2"
  },
  "language_info": {
   "codemirror_mode": {
    "name": "ipython",
    "version": 2
   },
   "file_extension": ".py",
   "mimetype": "text/x-python",
   "name": "python",
   "nbconvert_exporter": "python",
   "pygments_lexer": "ipython2",
   "version": "2.7.12"
  }
 },
 "nbformat": 4,
 "nbformat_minor": 1
}
