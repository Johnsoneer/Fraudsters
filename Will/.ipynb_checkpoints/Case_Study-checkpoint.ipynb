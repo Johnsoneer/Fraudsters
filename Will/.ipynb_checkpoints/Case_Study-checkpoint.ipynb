{
 "cells": [
  {
   "cell_type": "code",
<<<<<<< 45190825d55fc5884e8fd3d7c8ccab58c97c73d1
   "execution_count": 119,
=======
   "execution_count": 10,
>>>>>>> bug fixes on the logistic regression model
   "metadata": {
    "collapsed": true
   },
   "outputs": [],
   "source": [
    "import requests\n",
    "import pandas as pd\n",
    "import json\n",
    "import numpy as np\n",
    "import datetime as dt"
   ]
  },
  {
   "cell_type": "markdown",
   "metadata": {},
   "source": [
    "# Load/Clean the Data"
   ]
  },
  {
   "cell_type": "code",
<<<<<<< 45190825d55fc5884e8fd3d7c8ccab58c97c73d1
   "execution_count": 120,
=======
   "execution_count": 11,
>>>>>>> bug fixes on the logistic regression model
   "metadata": {
    "collapsed": false
   },
   "outputs": [],
   "source": [
    "df = pd.read_json('data.json')\n"
   ]
  },
  {
   "cell_type": "code",
<<<<<<< 45190825d55fc5884e8fd3d7c8ccab58c97c73d1
   "execution_count": 121,
=======
   "execution_count": 12,
>>>>>>> bug fixes on the logistic regression model
   "metadata": {
    "collapsed": false
   },
   "outputs": [],
   "source": [
    "#New Column to tell if event_published\n",
    "df['null_publishes'] = df['event_published'].isnull()"
   ]
  },
  {
   "cell_type": "code",
<<<<<<< 45190825d55fc5884e8fd3d7c8ccab58c97c73d1
   "execution_count": 123,
=======
   "execution_count": 13,
>>>>>>> bug fixes on the logistic regression model
   "metadata": {
    "collapsed": false
   },
   "outputs": [],
   "source": [
    "#converting UNIX dates to datetimes\n",
    "df['event_created'] = pd.to_datetime(df['event_created'],unit='s')\n",
    "df['event_start'] = pd.to_datetime(df['event_start'],unit='s')\n",
    "df['event_published'] = pd.to_datetime(df['event_published'],unit='s')"
   ]
  },
  {
   "cell_type": "code",
<<<<<<< 45190825d55fc5884e8fd3d7c8ccab58c97c73d1
   "execution_count": 124,
=======
   "execution_count": 14,
>>>>>>> bug fixes on the logistic regression model
   "metadata": {
    "collapsed": true
   },
   "outputs": [],
   "source": [
    "#Selecting just the dates\n",
    "df['created_date'] = df['event_created'].dt.date\n",
    "df['started_date'] = df['event_start'].dt.date\n",
    "df['published_date'] = df['event_published'].dt.date"
   ]
  },
  {
   "cell_type": "code",
<<<<<<< 45190825d55fc5884e8fd3d7c8ccab58c97c73d1
   "execution_count": 126,
=======
   "execution_count": 15,
>>>>>>> bug fixes on the logistic regression model
   "metadata": {
    "collapsed": true
   },
   "outputs": [],
   "source": [
    "#creating Fraud column:\n",
    "df['Fraud'] = ((df['acct_type'] == 'fraudster_event') | (df['acct_type'] == 'fraudster') | \\\n",
    "               (df['acct_type'] == 'locked') | (df['acct_type'] == 'tos_lock') | \\\n",
    "               (df['acct_type'] == 'tos_warn') | (df['acct_type'] == 'fraudster_att'))"
   ]
  },
  {
   "cell_type": "code",
<<<<<<< 45190825d55fc5884e8fd3d7c8ccab58c97c73d1
   "execution_count": 131,
=======
   "execution_count": 16,
>>>>>>> bug fixes on the logistic regression model
   "metadata": {
    "collapsed": false
   },
   "outputs": [
    {
     "name": "stderr",
     "output_type": "stream",
     "text": [
      "/Users/William/anaconda/lib/python2.7/site-packages/ipykernel/__main__.py:3: SettingWithCopyWarning: \n",
      "A value is trying to be set on a copy of a slice from a DataFrame.\n",
      "Try using .loc[row_indexer,col_indexer] = value instead\n",
      "\n",
      "See the caveats in the documentation: http://pandas.pydata.org/pandas-docs/stable/indexing.html#indexing-view-versus-copy\n",
      "  app.launch_new_instance()\n"
     ]
    }
   ],
   "source": [
    "#Creating new column where TRUE if all \n",
    "date_df = df[['Fraud','created_date','started_date','published_date']]\n",
    "date_df['all_equal'] = ((date_df['created_date']==date_df['published_date']) & (date_df['created_date']==date_df['started_date']))"
   ]
  },
  {
   "cell_type": "code",
<<<<<<< 45190825d55fc5884e8fd3d7c8ccab58c97c73d1
   "execution_count": 133,
=======
   "execution_count": 17,
>>>>>>> bug fixes on the logistic regression model
   "metadata": {
    "collapsed": false
   },
   "outputs": [],
   "source": [
    "df['all_dates_equal'] = date_df['all_equal']"
   ]
  },
  {
   "cell_type": "code",
<<<<<<< 45190825d55fc5884e8fd3d7c8ccab58c97c73d1
   "execution_count": 134,
   "metadata": {
    "collapsed": false
   },
   "outputs": [],
   "source": [
    "#creating new column for when currency is mismatched\n",
    "regions = df[['country','currency','Fraud']]\n",
    "regions['mismatched'] = ((regions['country'] == 'US') & (derulo['currency'] != 'USD' ) )\n",
=======
   "execution_count": 19,
   "metadata": {
    "collapsed": false
   },
   "outputs": [
    {
     "name": "stderr",
     "output_type": "stream",
     "text": [
      "/Users/William/anaconda/lib/python2.7/site-packages/ipykernel/__main__.py:3: SettingWithCopyWarning: \n",
      "A value is trying to be set on a copy of a slice from a DataFrame.\n",
      "Try using .loc[row_indexer,col_indexer] = value instead\n",
      "\n",
      "See the caveats in the documentation: http://pandas.pydata.org/pandas-docs/stable/indexing.html#indexing-view-versus-copy\n",
      "  app.launch_new_instance()\n"
     ]
    }
   ],
   "source": [
    "#creating new column for when currency is mismatched\n",
    "regions = df[['country','currency','Fraud']]\n",
    "regions['mismatched'] = ((regions['country'] == 'US') & (df['currency'] != 'USD' ) )\n",
>>>>>>> bug fixes on the logistic regression model
    "df['mismatched_currency'] = regions['mismatched']"
   ]
  },
  {
   "cell_type": "code",
<<<<<<< 45190825d55fc5884e8fd3d7c8ccab58c97c73d1
   "execution_count": 138,
=======
   "execution_count": 20,
>>>>>>> bug fixes on the logistic regression model
   "metadata": {
    "collapsed": false
   },
   "outputs": [
    {
     "data": {
      "text/html": [
       "<div>\n",
       "<table border=\"1\" class=\"dataframe\">\n",
       "  <thead>\n",
       "    <tr style=\"text-align: right;\">\n",
       "      <th></th>\n",
       "      <th>acct_type</th>\n",
       "      <th>approx_payout_date</th>\n",
       "      <th>body_length</th>\n",
       "      <th>channels</th>\n",
       "      <th>country</th>\n",
       "      <th>currency</th>\n",
       "      <th>delivery_method</th>\n",
       "      <th>description</th>\n",
       "      <th>email_domain</th>\n",
       "      <th>event_created</th>\n",
       "      <th>...</th>\n",
       "      <th>venue_longitude</th>\n",
       "      <th>venue_name</th>\n",
       "      <th>venue_state</th>\n",
       "      <th>null_publishes</th>\n",
       "      <th>created_date</th>\n",
       "      <th>started_date</th>\n",
       "      <th>published_date</th>\n",
       "      <th>Fraud</th>\n",
       "      <th>all_dates_equal</th>\n",
       "      <th>mismatched_currency</th>\n",
       "    </tr>\n",
       "  </thead>\n",
       "  <tbody>\n",
       "    <tr>\n",
       "      <th>0</th>\n",
       "      <td>fraudster_event</td>\n",
       "      <td>1266062400</td>\n",
       "      <td>3852</td>\n",
       "      <td>5</td>\n",
       "      <td>US</td>\n",
       "      <td>USD</td>\n",
       "      <td>0.0</td>\n",
       "      <td>&lt;p&gt;&lt;a href=\"http://s432.photobucket.com/albums...</td>\n",
       "      <td>gmail.com</td>\n",
       "      <td>2010-01-06 01:01:46</td>\n",
       "      <td>...</td>\n",
       "      <td>-80.133433</td>\n",
       "      <td>INK Nightclub - South Beach</td>\n",
       "      <td>FL</td>\n",
       "      <td>False</td>\n",
       "      <td>2010-01-06</td>\n",
       "      <td>2010-02-08</td>\n",
       "      <td>2010-01-10</td>\n",
       "      <td>True</td>\n",
       "      <td>False</td>\n",
       "      <td>False</td>\n",
       "    </tr>\n",
       "    <tr>\n",
       "      <th>1</th>\n",
       "      <td>premium</td>\n",
       "      <td>1296720000</td>\n",
       "      <td>3499</td>\n",
       "      <td>0</td>\n",
       "      <td>US</td>\n",
       "      <td>USD</td>\n",
       "      <td>1.0</td>\n",
       "      <td>&lt;p&gt;Join us for a quick, one-night, community-b...</td>\n",
       "      <td>ruf.org</td>\n",
       "      <td>2010-12-31 21:57:50</td>\n",
       "      <td>...</td>\n",
       "      <td>-79.930922</td>\n",
       "      <td>The Charleston, SC area</td>\n",
       "      <td>SC</td>\n",
       "      <td>False</td>\n",
       "      <td>2010-12-31</td>\n",
       "      <td>2011-01-28</td>\n",
       "      <td>2010-12-31</td>\n",
       "      <td>False</td>\n",
       "      <td>False</td>\n",
       "      <td>False</td>\n",
       "    </tr>\n",
       "    <tr>\n",
       "      <th>2</th>\n",
       "      <td>premium</td>\n",
       "      <td>1296172800</td>\n",
       "      <td>2601</td>\n",
       "      <td>8</td>\n",
       "      <td>US</td>\n",
       "      <td>USD</td>\n",
       "      <td>1.0</td>\n",
       "      <td>&lt;h3&gt;&lt;span class=\"subcategory\"&gt;&lt;strong&gt;Teacher ...</td>\n",
       "      <td>pvsd.k12.ca.us</td>\n",
       "      <td>2010-11-30 04:22:36</td>\n",
       "      <td>...</td>\n",
       "      <td>-118.080419</td>\n",
       "      <td>Los Angeles County Office of Education</td>\n",
       "      <td>CA</td>\n",
       "      <td>False</td>\n",
       "      <td>2010-11-30</td>\n",
       "      <td>2011-01-22</td>\n",
       "      <td>2010-11-30</td>\n",
       "      <td>False</td>\n",
       "      <td>False</td>\n",
       "      <td>False</td>\n",
       "    </tr>\n",
       "    <tr>\n",
       "      <th>3</th>\n",
       "      <td>premium</td>\n",
       "      <td>1388966400</td>\n",
       "      <td>12347</td>\n",
       "      <td>6</td>\n",
       "      <td>IE</td>\n",
       "      <td>EUR</td>\n",
       "      <td>1.0</td>\n",
       "      <td>&lt;p style=\"margin-bottom: 1.3em; padding-bottom...</td>\n",
       "      <td>irishtabletennis.com</td>\n",
       "      <td>2013-02-12 15:06:10</td>\n",
       "      <td>...</td>\n",
       "      <td>NaN</td>\n",
       "      <td>None</td>\n",
       "      <td>None</td>\n",
       "      <td>False</td>\n",
       "      <td>2013-02-12</td>\n",
       "      <td>2013-02-12</td>\n",
       "      <td>2013-02-12</td>\n",
       "      <td>False</td>\n",
       "      <td>True</td>\n",
       "      <td>False</td>\n",
       "    </tr>\n",
       "    <tr>\n",
       "      <th>4</th>\n",
       "      <td>premium</td>\n",
       "      <td>1297900800</td>\n",
       "      <td>2417</td>\n",
       "      <td>11</td>\n",
       "      <td>US</td>\n",
       "      <td>USD</td>\n",
       "      <td>0.0</td>\n",
       "      <td>&lt;p&gt;Writers and filmmakers need to understand t...</td>\n",
       "      <td>artsandbusinesscouncil.org</td>\n",
       "      <td>2010-12-10 15:24:26</td>\n",
       "      <td>...</td>\n",
       "      <td>-71.044276</td>\n",
       "      <td>Fish &amp; Richardson</td>\n",
       "      <td>MA</td>\n",
       "      <td>False</td>\n",
       "      <td>2010-12-10</td>\n",
       "      <td>2011-02-11</td>\n",
       "      <td>2010-12-10</td>\n",
       "      <td>False</td>\n",
       "      <td>False</td>\n",
       "      <td>False</td>\n",
       "    </tr>\n",
       "  </tbody>\n",
       "</table>\n",
       "<p>5 rows × 51 columns</p>\n",
       "</div>"
      ],
      "text/plain": [
       "         acct_type  approx_payout_date  body_length  channels country  \\\n",
       "0  fraudster_event          1266062400         3852         5      US   \n",
       "1          premium          1296720000         3499         0      US   \n",
       "2          premium          1296172800         2601         8      US   \n",
       "3          premium          1388966400        12347         6      IE   \n",
       "4          premium          1297900800         2417        11      US   \n",
       "\n",
       "  currency  delivery_method  \\\n",
       "0      USD              0.0   \n",
       "1      USD              1.0   \n",
       "2      USD              1.0   \n",
       "3      EUR              1.0   \n",
       "4      USD              0.0   \n",
       "\n",
       "                                         description  \\\n",
       "0  <p><a href=\"http://s432.photobucket.com/albums...   \n",
       "1  <p>Join us for a quick, one-night, community-b...   \n",
       "2  <h3><span class=\"subcategory\"><strong>Teacher ...   \n",
       "3  <p style=\"margin-bottom: 1.3em; padding-bottom...   \n",
       "4  <p>Writers and filmmakers need to understand t...   \n",
       "\n",
       "                 email_domain       event_created         ...          \\\n",
       "0                   gmail.com 2010-01-06 01:01:46         ...           \n",
       "1                     ruf.org 2010-12-31 21:57:50         ...           \n",
       "2              pvsd.k12.ca.us 2010-11-30 04:22:36         ...           \n",
       "3        irishtabletennis.com 2013-02-12 15:06:10         ...           \n",
       "4  artsandbusinesscouncil.org 2010-12-10 15:24:26         ...           \n",
       "\n",
       "   venue_longitude                              venue_name venue_state  \\\n",
       "0       -80.133433             INK Nightclub - South Beach          FL   \n",
       "1       -79.930922                 The Charleston, SC area          SC   \n",
       "2      -118.080419  Los Angeles County Office of Education          CA   \n",
       "3              NaN                                    None        None   \n",
       "4       -71.044276                       Fish & Richardson          MA   \n",
       "\n",
       "   null_publishes  created_date  started_date  published_date  Fraud  \\\n",
       "0           False    2010-01-06    2010-02-08      2010-01-10   True   \n",
       "1           False    2010-12-31    2011-01-28      2010-12-31  False   \n",
       "2           False    2010-11-30    2011-01-22      2010-11-30  False   \n",
       "3           False    2013-02-12    2013-02-12      2013-02-12  False   \n",
       "4           False    2010-12-10    2011-02-11      2010-12-10  False   \n",
       "\n",
       "  all_dates_equal mismatched_currency  \n",
       "0           False               False  \n",
       "1           False               False  \n",
       "2           False               False  \n",
       "3            True               False  \n",
       "4           False               False  \n",
       "\n",
       "[5 rows x 51 columns]"
      ]
     },
<<<<<<< 45190825d55fc5884e8fd3d7c8ccab58c97c73d1
     "execution_count": 138,
=======
     "execution_count": 20,
>>>>>>> bug fixes on the logistic regression model
     "metadata": {},
     "output_type": "execute_result"
    }
   ],
   "source": [
    "df.head()"
   ]
  },
  {
   "cell_type": "markdown",
   "metadata": {},
   "source": [
    "# Selecting a dataframe to pass into model:"
   ]
  },
  {
   "cell_type": "code",
<<<<<<< 45190825d55fc5884e8fd3d7c8ccab58c97c73d1
   "execution_count": 140,
=======
   "execution_count": 21,
>>>>>>> bug fixes on the logistic regression model
   "metadata": {
    "collapsed": false
   },
   "outputs": [],
   "source": [
    "from sklearn.cross_validation import train_test_split\n",
    "X = df[['all_dates_equal','mismatched_currency', 'null_publishes']]\n",
    "y = df['Fraud']\n",
    "\n",
    "X_train,X_test, y_train, y_test = train_test_split(X,y)"
   ]
  },
  {
   "cell_type": "markdown",
   "metadata": {},
   "source": [
    "# Building the Model"
   ]
  },
  {
   "cell_type": "code",
<<<<<<< 45190825d55fc5884e8fd3d7c8ccab58c97c73d1
   "execution_count": 141,
=======
   "execution_count": 22,
>>>>>>> bug fixes on the logistic regression model
   "metadata": {
    "collapsed": false
   },
   "outputs": [
    {
     "data": {
      "text/plain": [
       "LogisticRegression(C=1.0, class_weight=None, dual=False, fit_intercept=True,\n",
       "          intercept_scaling=1, max_iter=100, multi_class='ovr', n_jobs=1,\n",
       "          penalty='l2', random_state=None, solver='liblinear', tol=0.0001,\n",
       "          verbose=0, warm_start=False)"
      ]
     },
<<<<<<< 45190825d55fc5884e8fd3d7c8ccab58c97c73d1
     "execution_count": 141,
=======
     "execution_count": 22,
>>>>>>> bug fixes on the logistic regression model
     "metadata": {},
     "output_type": "execute_result"
    }
   ],
   "source": [
    "from sklearn.linear_model import LogisticRegression\n",
    "\n",
    "model = LogisticRegression()\n",
    "model.fit(X_train,y_train)"
   ]
  },
  {
   "cell_type": "code",
<<<<<<< 45190825d55fc5884e8fd3d7c8ccab58c97c73d1
   "execution_count": 144,
=======
   "execution_count": 23,
>>>>>>> bug fixes on the logistic regression model
   "metadata": {
    "collapsed": false
   },
   "outputs": [
    {
     "data": {
      "text/plain": [
<<<<<<< 45190825d55fc5884e8fd3d7c8ccab58c97c73d1
       "0.90264993026499307"
      ]
     },
     "execution_count": 144,
=======
       "0.89930264993026499"
      ]
     },
     "execution_count": 23,
>>>>>>> bug fixes on the logistic regression model
     "metadata": {},
     "output_type": "execute_result"
    }
   ],
   "source": [
    "model.score(X_test,y_test)\n"
   ]
  },
  {
   "cell_type": "code",
<<<<<<< 45190825d55fc5884e8fd3d7c8ccab58c97c73d1
   "execution_count": 146,
=======
   "execution_count": 24,
>>>>>>> bug fixes on the logistic regression model
   "metadata": {
    "collapsed": false
   },
   "outputs": [
    {
     "data": {
      "text/plain": [
<<<<<<< 45190825d55fc5884e8fd3d7c8ccab58c97c73d1
       "array([ -4.09947495e-04,  -3.66153695e-04,  -2.04387964e-07])"
      ]
     },
     "execution_count": 146,
=======
       "array([ 0.9015067 ,  0.90066964,  0.90011161])"
      ]
     },
     "execution_count": 24,
>>>>>>> bug fixes on the logistic regression model
     "metadata": {},
     "output_type": "execute_result"
    }
   ],
   "source": [
    "# Cross-Validation\n",
    "from sklearn.model_selection import cross_val_score\n",
    "from sklearn.linear_model import Lasso\n",
    "\n",
<<<<<<< 45190825d55fc5884e8fd3d7c8ccab58c97c73d1
    "lasso = Lasso()\n",
    "cross_val_score(lasso, X_train,y_train)"
=======
    "\n",
    "cross_val_score(model, X_train,y_train)"
>>>>>>> bug fixes on the logistic regression model
   ]
  },
  {
   "cell_type": "code",
   "execution_count": null,
   "metadata": {
    "collapsed": true
   },
   "outputs": [],
   "source": []
  }
 ],
 "metadata": {
  "kernelspec": {
   "display_name": "Python 2",
   "language": "python",
   "name": "python2"
  },
  "language_info": {
   "codemirror_mode": {
    "name": "ipython",
    "version": 2
   },
   "file_extension": ".py",
   "mimetype": "text/x-python",
   "name": "python",
   "nbconvert_exporter": "python",
   "pygments_lexer": "ipython2",
   "version": "2.7.13"
  }
 },
 "nbformat": 4,
 "nbformat_minor": 2
}
